{
 "cells": [
  {
   "cell_type": "code",
   "execution_count": 1,
   "id": "6f608ffa",
   "metadata": {},
   "outputs": [],
   "source": [
    "## Import Libraries:\n",
    "\n",
    "from bs4 import BeautifulSoup\n",
    "import pandas as pd\n",
    "import csv\n",
    "import requests\n",
    "import time\n",
    "import datetime\n",
    "\n",
    "import smtplib"
   ]
  },
  {
   "cell_type": "code",
   "execution_count": 2,
   "id": "71982e01",
   "metadata": {},
   "outputs": [
    {
     "name": "stdout",
     "output_type": "stream",
     "text": [
      "\n",
      "            Nothing Phone (1) 5G (Black, 256 GB) (8 GB RAM)\n",
      "           \n",
      "\n",
      "             ₹33,989\n",
      "            \n"
     ]
    }
   ],
   "source": [
    "## Connect to website and Pull in Data:\n",
    "\n",
    "URL = 'https://www.amazon.in/Nothing-Phone-Black-256-RAM/dp/B0B8TBNGBG/ref=sr_1_3?keywords=nothing+phone+1&qid=1680280627&s=electronics&sprefix=nothing+%2Celectronics%2C302&sr=1-3'\n",
    "\n",
    "headers = {\"User-Agent\": \"Mozilla/5.0 (Windows NT 10.0; Win64; x64) AppleWebKit/537.36 (KHTML, like Gecko) Chrome/111.0.0.0 Safari/537.36\"}\n",
    "\n",
    "page = requests.get(URL, headers = headers)\n",
    "\n",
    "soup1 = BeautifulSoup(page.content, \"html.parser\")\n",
    "\n",
    "soup2 = BeautifulSoup(soup1.prettify(), \"html.parser\")\n",
    "\n",
    "title = soup2.find(id =\"productTitle\").text\n",
    "\n",
    "price = soup2.find(id = \"corePriceDisplay_desktop_feature_div\").find(\"span\", attrs = {\"class\" : 'a-offscreen'}).text\n",
    "\n",
    "print(title)\n",
    "print(price)\n"
   ]
  },
  {
   "cell_type": "code",
   "execution_count": 3,
   "id": "f8f733dc",
   "metadata": {},
   "outputs": [
    {
     "name": "stdout",
     "output_type": "stream",
     "text": [
      "Nothing Phone (1) 5G (Black, 256 GB) (8 GB RAM)\n",
      "33,989\n"
     ]
    }
   ],
   "source": [
    "# Clean up the data a little bit using .strip()\n",
    "\n",
    "price = price.strip()[1:]\n",
    "title = title.strip()\n",
    "\n",
    "print(title)\n",
    "print(price)"
   ]
  },
  {
   "cell_type": "code",
   "execution_count": 4,
   "id": "4bbda84f",
   "metadata": {},
   "outputs": [
    {
     "name": "stdout",
     "output_type": "stream",
     "text": [
      "4.0 out of 5 stars\n"
     ]
    }
   ],
   "source": [
    "## Ratings \n",
    "\n",
    "Rating = soup2.find(id = 'averageCustomerReviews').find(\"span\", attrs = {\"class\":\"a-icon-alt\"}).text.strip()\n",
    "\n",
    "print(Rating)"
   ]
  },
  {
   "cell_type": "code",
   "execution_count": 5,
   "id": "922d2086",
   "metadata": {},
   "outputs": [
    {
     "name": "stdout",
     "output_type": "stream",
     "text": [
      "39 ratings\n"
     ]
    }
   ],
   "source": [
    "## Total Rating\n",
    "Total_Reviews = soup2.find(id=\"acrCustomerReviewText\").text.strip()\n",
    "\n",
    "print(Total_Reviews)"
   ]
  },
  {
   "cell_type": "code",
   "execution_count": 6,
   "id": "776a6aab",
   "metadata": {},
   "outputs": [
    {
     "name": "stdout",
     "output_type": "stream",
     "text": [
      "2023-04-02\n"
     ]
    }
   ],
   "source": [
    "# Create a Timestamp for your output to track when data was collected.\n",
    "today = datetime.date.today()\n",
    "\n",
    "print(today)"
   ]
  },
  {
   "cell_type": "code",
   "execution_count": 7,
   "id": "f2652a27",
   "metadata": {},
   "outputs": [],
   "source": [
    "# Create CSV and write headers and data into the file:\n",
    "\n",
    "header = ['Date','Product', 'Price','Total_Reviews', 'Rating']\n",
    "data = [today, title, price, Total_Reviews, Rating  ]\n",
    "\n",
    "with open('AmazonWebScrapperDataset.csv', 'w',newline = '', encoding = 'UTF8') as f:\n",
    "    writer = csv.writer(f)\n",
    "    writer.writerow(header)\n",
    "    writer.writerow(data)\n",
    "    \n",
    "    "
   ]
  },
  {
   "cell_type": "code",
   "execution_count": 8,
   "id": "b41116d7",
   "metadata": {},
   "outputs": [],
   "source": [
    "#Appending data to the csv:\n",
    "\n",
    "with open('AmazonWebScrapperDataset.csv', 'a+',newline = '', encoding = 'UTF8') as f:\n",
    "    writer = csv.writer(f)\n",
    "    writer.writerow(data)"
   ]
  },
  {
   "cell_type": "code",
   "execution_count": 9,
   "id": "790a4a92",
   "metadata": {},
   "outputs": [
    {
     "data": {
      "text/html": [
       "<div>\n",
       "<style scoped>\n",
       "    .dataframe tbody tr th:only-of-type {\n",
       "        vertical-align: middle;\n",
       "    }\n",
       "\n",
       "    .dataframe tbody tr th {\n",
       "        vertical-align: top;\n",
       "    }\n",
       "\n",
       "    .dataframe thead th {\n",
       "        text-align: right;\n",
       "    }\n",
       "</style>\n",
       "<table border=\"1\" class=\"dataframe\">\n",
       "  <thead>\n",
       "    <tr style=\"text-align: right;\">\n",
       "      <th></th>\n",
       "      <th>Date</th>\n",
       "      <th>Product</th>\n",
       "      <th>Price</th>\n",
       "      <th>Total_Reviews</th>\n",
       "      <th>Rating</th>\n",
       "    </tr>\n",
       "  </thead>\n",
       "  <tbody>\n",
       "    <tr>\n",
       "      <th>0</th>\n",
       "      <td>2023-04-02</td>\n",
       "      <td>Nothing Phone (1) 5G (Black, 256 GB) (8 GB RAM)</td>\n",
       "      <td>33,989</td>\n",
       "      <td>39 ratings</td>\n",
       "      <td>4.0 out of 5 stars</td>\n",
       "    </tr>\n",
       "    <tr>\n",
       "      <th>1</th>\n",
       "      <td>2023-04-02</td>\n",
       "      <td>Nothing Phone (1) 5G (Black, 256 GB) (8 GB RAM)</td>\n",
       "      <td>33,989</td>\n",
       "      <td>39 ratings</td>\n",
       "      <td>4.0 out of 5 stars</td>\n",
       "    </tr>\n",
       "  </tbody>\n",
       "</table>\n",
       "</div>"
      ],
      "text/plain": [
       "         Date                                          Product   Price  \\\n",
       "0  2023-04-02  Nothing Phone (1) 5G (Black, 256 GB) (8 GB RAM)  33,989   \n",
       "1  2023-04-02  Nothing Phone (1) 5G (Black, 256 GB) (8 GB RAM)  33,989   \n",
       "\n",
       "  Total_Reviews              Rating  \n",
       "0    39 ratings  4.0 out of 5 stars  \n",
       "1    39 ratings  4.0 out of 5 stars  "
      ]
     },
     "execution_count": 9,
     "metadata": {},
     "output_type": "execute_result"
    }
   ],
   "source": [
    "## Viewing the data:\n",
    "\n",
    "df = pd.read_csv(r'E:\\1. Tech\\Python - Data Analysis\\AmazonWebScrapperDataset.csv')\n",
    "\n",
    "df"
   ]
  },
  {
   "cell_type": "code",
   "execution_count": 10,
   "id": "94ce27d9",
   "metadata": {},
   "outputs": [],
   "source": [
    "#Combine all of the above code into one function:\n",
    "\n",
    "from bs4 import BeautifulSoup\n",
    "import pandas as pd\n",
    "import csv\n",
    "import requests\n",
    "import time\n",
    "import datetime\n",
    "\n",
    "def price_check():\n",
    "    URL = 'https://www.amazon.in/Nothing-Phone-Black-256-RAM/dp/B0B8TBNGBG/ref=sr_1_3?keywords=nothing+phone+1&qid=1680280627&s=electronics&sprefix=nothing+%2Celectronics%2C302&sr=1-3'\n",
    "\n",
    "    headers = {\"User-Agent\": \"Mozilla/5.0 (Windows NT 10.0; Win64; x64) AppleWebKit/537.36 (KHTML, like Gecko) Chrome/111.0.0.0 Safari/537.36\"}\n",
    "\n",
    "    page = requests.get(URL, headers = headers)\n",
    "\n",
    "    soup1 = BeautifulSoup(page.content, \"html.parser\")\n",
    "\n",
    "    soup2 = BeautifulSoup(soup1.prettify(), \"html.parser\")\n",
    "\n",
    "    title = soup2.find(id =\"productTitle\").text.strip()\n",
    "\n",
    "    price = soup2.find(id = \"corePriceDisplay_desktop_feature_div\").find(\"span\", attrs = {\"class\" : 'a-offscreen'}).text.strip()[1:]\n",
    "    \n",
    "    Rating = soup2.find(id = 'averageCustomerReviews').find(\"span\", attrs = {\"class\":\"a-icon-alt\"}).text.strip()\n",
    " \n",
    "    Total_Reviews = soup2.find(id=\"acrCustomerReviewText\").text.strip()\n",
    "    \n",
    "    today = datetime.date.today()\n",
    "    \n",
    "    header = ['Date','Product', 'Price','Total_Reviews', 'Rating']\n",
    "    data = [today, title, price, Total_Reviews, Rating  ]\n",
    "       \n",
    "    with open('AmazonWebScrapperDataset.csv', 'a+', newline='', encoding='UTF8') as f:\n",
    "        writer = csv.writer(f)\n",
    "        writer.writerow(data)\n",
    "    \n",
    "    \n"
   ]
  },
  {
   "cell_type": "code",
   "execution_count": null,
   "id": "1759f576",
   "metadata": {},
   "outputs": [],
   "source": [
    "# Runs price_check after a set time and inputs data into your CSV\n",
    "\n",
    "while(True):\n",
    "    price_check()\n",
    "    time.sleep(86400)      ## 86400 seconds = 1 day"
   ]
  },
  {
   "cell_type": "code",
   "execution_count": 13,
   "id": "15200392",
   "metadata": {},
   "outputs": [
    {
     "data": {
      "text/html": [
       "<div>\n",
       "<style scoped>\n",
       "    .dataframe tbody tr th:only-of-type {\n",
       "        vertical-align: middle;\n",
       "    }\n",
       "\n",
       "    .dataframe tbody tr th {\n",
       "        vertical-align: top;\n",
       "    }\n",
       "\n",
       "    .dataframe thead th {\n",
       "        text-align: right;\n",
       "    }\n",
       "</style>\n",
       "<table border=\"1\" class=\"dataframe\">\n",
       "  <thead>\n",
       "    <tr style=\"text-align: right;\">\n",
       "      <th></th>\n",
       "      <th>Date</th>\n",
       "      <th>Product</th>\n",
       "      <th>Price</th>\n",
       "      <th>Total_Reviews</th>\n",
       "      <th>Rating</th>\n",
       "    </tr>\n",
       "  </thead>\n",
       "  <tbody>\n",
       "    <tr>\n",
       "      <th>0</th>\n",
       "      <td>2023-04-02</td>\n",
       "      <td>Nothing Phone (1) 5G (Black, 256 GB) (8 GB RAM)</td>\n",
       "      <td>33,989</td>\n",
       "      <td>39 ratings</td>\n",
       "      <td>4.0 out of 5 stars</td>\n",
       "    </tr>\n",
       "    <tr>\n",
       "      <th>1</th>\n",
       "      <td>2023-04-02</td>\n",
       "      <td>Nothing Phone (1) 5G (Black, 256 GB) (8 GB RAM)</td>\n",
       "      <td>33,989</td>\n",
       "      <td>39 ratings</td>\n",
       "      <td>4.0 out of 5 stars</td>\n",
       "    </tr>\n",
       "  </tbody>\n",
       "</table>\n",
       "</div>"
      ],
      "text/plain": [
       "         Date                                          Product   Price  \\\n",
       "0  2023-04-02  Nothing Phone (1) 5G (Black, 256 GB) (8 GB RAM)  33,989   \n",
       "1  2023-04-02  Nothing Phone (1) 5G (Black, 256 GB) (8 GB RAM)  33,989   \n",
       "\n",
       "  Total_Reviews              Rating  \n",
       "0    39 ratings  4.0 out of 5 stars  \n",
       "1    39 ratings  4.0 out of 5 stars  "
      ]
     },
     "execution_count": 13,
     "metadata": {},
     "output_type": "execute_result"
    }
   ],
   "source": [
    "## Viewing the data:\n",
    "\n",
    "df = pd.read_csv(r'E:\\1. Tech\\Python - Data Analysis\\AmazonWebScrapperDataset.csv')\n",
    "\n",
    "df"
   ]
  },
  {
   "cell_type": "code",
   "execution_count": null,
   "id": "5474acd5",
   "metadata": {},
   "outputs": [],
   "source": []
  },
  {
   "cell_type": "code",
   "execution_count": null,
   "id": "2d43c650",
   "metadata": {},
   "outputs": [],
   "source": []
  },
  {
   "cell_type": "code",
   "execution_count": null,
   "id": "6cc46494",
   "metadata": {},
   "outputs": [],
   "source": []
  },
  {
   "cell_type": "code",
   "execution_count": null,
   "id": "6bb91369",
   "metadata": {},
   "outputs": [],
   "source": []
  }
 ],
 "metadata": {
  "kernelspec": {
   "display_name": "Python 3 (ipykernel)",
   "language": "python",
   "name": "python3"
  },
  "language_info": {
   "codemirror_mode": {
    "name": "ipython",
    "version": 3
   },
   "file_extension": ".py",
   "mimetype": "text/x-python",
   "name": "python",
   "nbconvert_exporter": "python",
   "pygments_lexer": "ipython3",
   "version": "3.9.12"
  }
 },
 "nbformat": 4,
 "nbformat_minor": 5
}

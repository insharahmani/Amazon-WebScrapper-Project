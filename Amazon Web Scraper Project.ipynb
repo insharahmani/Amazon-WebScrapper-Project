# 🛍️ Amazon Price Tracker | Python Project
# Author: Insha Rahmani
# Objective: Track product price, rating & reviews from Amazon using Python automation

# ============================================================
# 📦 Step 1: Import Required Libraries
# ============================================================
from bs4 import BeautifulSoup
import pandas as pd
import csv
import requests
import time
import datetime

# ============================================================
# 🌐 Step 2: Connect to Amazon Website and Extract Product Data
# ============================================================

url = "https://www.amazon.in/Nothing-Phone-Black-256-RAM/dp/B0B8TBNGBG/"
headers = {
    "User-Agent": "Mozilla/5.0 (Windows NT 10.0; Win64; x64) "
                  "AppleWebKit/537.36 (KHTML, like Gecko) "
                  "Chrome/111.0.0.0 Safari/537.36"
}

response = requests.get(url, headers=headers)
soup = BeautifulSoup(response.text, "html.parser")

# Extract product details
product_name = soup.find(id="productTitle").get_text(strip=True)
product_price = soup.find("span", {"class": "a-offscreen"}).get_text(strip=True)[1:]
rating = soup.find("span", {"class": "a-icon-alt"}).get_text(strip=True)
total_reviews = soup.find(id="acrCustomerReviewText").get_text(strip=True)
today = datetime.date.today()

print("✅ Product Name:", product_name)
print("💰 Price (INR):", product_price)
print("⭐ Rating:", rating)
print("💬 Total Reviews:", total_reviews)
print("📅 Date:", today)

# ============================================================
# 📊 Step 3: Save Data into a CSV File
# ============================================================

header = ["Date", "Product", "Price", "Total_Reviews", "Rating"]
data = [today, product_name, product_price, total_reviews, rating]

# Create CSV if not exists
with open("Amazon_Price_Tracker.csv", "a+", newline="", encoding="UTF8") as file:
    writer = csv.writer(file)
    if file.tell() == 0:  # write header if file is empty
        writer.writerow(header)
    writer.writerow(data)

print("📁 Data saved successfully to 'Amazon_Price_Tracker.csv'")

# ============================================================
# 🔁 Step 4: Automate Daily Price Tracking
# ============================================================

def track_price():
    response = requests.get(url, headers=headers)
    soup = BeautifulSoup(response.text, "html.parser")

    product_name = soup.find(id="productTitle").get_text(strip=True)
    product_price = soup.find("span", {"class": "a-offscreen"}).get_text(strip=True)[1:]
    rating = soup.find("span", {"class": "a-icon-alt"}).get_text(strip=True)
    total_reviews = soup.find(id="acrCustomerReviewText").get_text(strip=True)
    today = datetime.date.today()

    data = [today, product_name, product_price, total_reviews, rating]

    with open("Amazon_Price_Tracker.csv", "a+", newline="", encoding="UTF8") as file:
        writer = csv.writer(file)
        writer.writerow(data)
    
    print(f"✅ Data added for {today} | {product_name} | ₹{product_price}")

# Uncomment to run automatically every 24 hours
# while True:
#     track_price()
#     time.sleep(86400)  # 86400 sec = 1 day

# ============================================================
# 📖 Step 5: View Your Data
# ============================================================

df = pd.read_csv("Amazon_Price_Tracker.csv")
print("📊 Data Preview:\n")
display(df.head())
